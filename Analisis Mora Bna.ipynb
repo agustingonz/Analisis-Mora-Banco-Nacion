{
 "cells": [
  {
   "cell_type": "markdown",
   "id": "e4e5b973",
   "metadata": {},
   "source": [
    "ANÁLISIS DE LA CARTERA MOROSA EN SUCURSALES - BANCO NACION ARGENTINA -"
   ]
  },
  {
   "cell_type": "markdown",
   "id": "187eaa2d",
   "metadata": {},
   "source": [
    "Para arrancar voy a importar las librerias que voy a  utilizar.-"
   ]
  },
  {
   "cell_type": "code",
   "execution_count": 1,
   "id": "f2ef7d15",
   "metadata": {},
   "outputs": [],
   "source": [
    "import pandas as pd\n",
    "import numpy as np\n",
    "import matplotlib.pyplot as plt\n",
    "import seaborn as sns"
   ]
  },
  {
   "cell_type": "markdown",
   "id": "0da2eacc",
   "metadata": {},
   "source": [
    "Extraigo el archivo que contiene la base de datos a analizar y la almaceno en un df.-"
   ]
  },
  {
   "cell_type": "code",
   "execution_count": 2,
   "id": "72781d77",
   "metadata": {},
   "outputs": [],
   "source": [
    "df=pd.read_excel(r\"C:\\Users\\Agustín\\Desktop\\Base para GitHub\\Analisis Mora\\Analisis Mora Bna1.xlsx\")"
   ]
  },
  {
   "cell_type": "code",
   "execution_count": 3,
   "id": "de4799b6",
   "metadata": {},
   "outputs": [
    {
     "data": {
      "text/html": [
       "<div>\n",
       "<style scoped>\n",
       "    .dataframe tbody tr th:only-of-type {\n",
       "        vertical-align: middle;\n",
       "    }\n",
       "\n",
       "    .dataframe tbody tr th {\n",
       "        vertical-align: top;\n",
       "    }\n",
       "\n",
       "    .dataframe thead th {\n",
       "        text-align: right;\n",
       "    }\n",
       "</style>\n",
       "<table border=\"1\" class=\"dataframe\">\n",
       "  <thead>\n",
       "    <tr style=\"text-align: right;\">\n",
       "      <th></th>\n",
       "      <th>Numero_Cliente</th>\n",
       "      <th>Codigo_Sucursal</th>\n",
       "      <th>Nombre_Sucursal</th>\n",
       "      <th>Nombre</th>\n",
       "      <th>VTO.</th>\n",
       "      <th>Atraso</th>\n",
       "      <th>Cartera</th>\n",
       "      <th>Sit.</th>\n",
       "      <th>Desc_Actividad</th>\n",
       "      <th>Grupo_Actividad</th>\n",
       "      <th>Sector_Actividad</th>\n",
       "      <th>Segmentacion</th>\n",
       "      <th>Deuda_Pesificada</th>\n",
       "    </tr>\n",
       "  </thead>\n",
       "  <tbody>\n",
       "    <tr>\n",
       "      <th>0</th>\n",
       "      <td>10001</td>\n",
       "      <td>1046</td>\n",
       "      <td>ALTA CORDOBA</td>\n",
       "      <td>GABRIEL</td>\n",
       "      <td>2022-12-01</td>\n",
       "      <td>30</td>\n",
       "      <td>2</td>\n",
       "      <td>1</td>\n",
       "      <td>ACTIVIDADES DIVERSAS NO CLASIFICADAS EN OTRA P...</td>\n",
       "      <td>OTROS</td>\n",
       "      <td>NO CLASIFICADO</td>\n",
       "      <td>CARTERA INACTIVA PREVISIO</td>\n",
       "      <td>316007.96</td>\n",
       "    </tr>\n",
       "    <tr>\n",
       "      <th>1</th>\n",
       "      <td>10002</td>\n",
       "      <td>1046</td>\n",
       "      <td>ALTA CORDOBA</td>\n",
       "      <td>MELISA</td>\n",
       "      <td>2022-11-09</td>\n",
       "      <td>52</td>\n",
       "      <td>2</td>\n",
       "      <td>2</td>\n",
       "      <td>ACTIVIDADES DIVERSAS NO CLASIFICADAS EN OTRA P...</td>\n",
       "      <td>OTROS</td>\n",
       "      <td>NO CLASIFICADO</td>\n",
       "      <td>CARTERA ABIERTA</td>\n",
       "      <td>287595.70</td>\n",
       "    </tr>\n",
       "    <tr>\n",
       "      <th>2</th>\n",
       "      <td>10003</td>\n",
       "      <td>1046</td>\n",
       "      <td>ALTA CORDOBA</td>\n",
       "      <td>PEDRO ANDRES</td>\n",
       "      <td>2022-12-01</td>\n",
       "      <td>30</td>\n",
       "      <td>2</td>\n",
       "      <td>1</td>\n",
       "      <td>PERSONAS FIS.QUE DESARROLLEN ALGUNA ACTIV.</td>\n",
       "      <td>FAMILIAS</td>\n",
       "      <td>NO CLASIFICADO</td>\n",
       "      <td>CARTERA INACTIVA HABERES</td>\n",
       "      <td>232587.05</td>\n",
       "    </tr>\n",
       "    <tr>\n",
       "      <th>3</th>\n",
       "      <td>10004</td>\n",
       "      <td>1046</td>\n",
       "      <td>ALTA CORDOBA</td>\n",
       "      <td>ELBA ROSA</td>\n",
       "      <td>2022-11-23</td>\n",
       "      <td>38</td>\n",
       "      <td>2</td>\n",
       "      <td>2</td>\n",
       "      <td>JUBILADOS Y PENSIONADOS</td>\n",
       "      <td>FAMILIAS</td>\n",
       "      <td>NO CLASIFICADO</td>\n",
       "      <td>CARTERA PREVISIONAL</td>\n",
       "      <td>174700.00</td>\n",
       "    </tr>\n",
       "    <tr>\n",
       "      <th>4</th>\n",
       "      <td>10005</td>\n",
       "      <td>1046</td>\n",
       "      <td>ALTA CORDOBA</td>\n",
       "      <td>MARIA FERNANDA</td>\n",
       "      <td>2022-11-09</td>\n",
       "      <td>52</td>\n",
       "      <td>2</td>\n",
       "      <td>2</td>\n",
       "      <td>ACTIVIDADES DIVERSAS NO CLASIFICADAS EN OTRA P...</td>\n",
       "      <td>OTROS</td>\n",
       "      <td>NO CLASIFICADO</td>\n",
       "      <td>CARTERA ABIERTA</td>\n",
       "      <td>159177.00</td>\n",
       "    </tr>\n",
       "  </tbody>\n",
       "</table>\n",
       "</div>"
      ],
      "text/plain": [
       "   Numero_Cliente  Codigo_Sucursal Nombre_Sucursal           Nombre  \\\n",
       "0           10001             1046    ALTA CORDOBA          GABRIEL   \n",
       "1           10002             1046    ALTA CORDOBA           MELISA   \n",
       "2           10003             1046    ALTA CORDOBA     PEDRO ANDRES   \n",
       "3           10004             1046    ALTA CORDOBA        ELBA ROSA   \n",
       "4           10005             1046    ALTA CORDOBA   MARIA FERNANDA   \n",
       "\n",
       "        VTO.  Atraso  Cartera  Sit.  \\\n",
       "0 2022-12-01      30        2     1   \n",
       "1 2022-11-09      52        2     2   \n",
       "2 2022-12-01      30        2     1   \n",
       "3 2022-11-23      38        2     2   \n",
       "4 2022-11-09      52        2     2   \n",
       "\n",
       "                                      Desc_Actividad Grupo_Actividad  \\\n",
       "0  ACTIVIDADES DIVERSAS NO CLASIFICADAS EN OTRA P...           OTROS   \n",
       "1  ACTIVIDADES DIVERSAS NO CLASIFICADAS EN OTRA P...           OTROS   \n",
       "2         PERSONAS FIS.QUE DESARROLLEN ALGUNA ACTIV.        FAMILIAS   \n",
       "3                            JUBILADOS Y PENSIONADOS        FAMILIAS   \n",
       "4  ACTIVIDADES DIVERSAS NO CLASIFICADAS EN OTRA P...           OTROS   \n",
       "\n",
       "  Sector_Actividad                Segmentacion  Deuda_Pesificada  \n",
       "0   NO CLASIFICADO   CARTERA INACTIVA PREVISIO         316007.96  \n",
       "1   NO CLASIFICADO             CARTERA ABIERTA         287595.70  \n",
       "2   NO CLASIFICADO    CARTERA INACTIVA HABERES         232587.05  \n",
       "3   NO CLASIFICADO         CARTERA PREVISIONAL         174700.00  \n",
       "4   NO CLASIFICADO             CARTERA ABIERTA         159177.00  "
      ]
     },
     "execution_count": 3,
     "metadata": {},
     "output_type": "execute_result"
    }
   ],
   "source": [
    "df.head()"
   ]
  },
  {
   "cell_type": "code",
   "execution_count": 4,
   "id": "3b0761a2",
   "metadata": {},
   "outputs": [
    {
     "data": {
      "text/html": [
       "<div>\n",
       "<style scoped>\n",
       "    .dataframe tbody tr th:only-of-type {\n",
       "        vertical-align: middle;\n",
       "    }\n",
       "\n",
       "    .dataframe tbody tr th {\n",
       "        vertical-align: top;\n",
       "    }\n",
       "\n",
       "    .dataframe thead th {\n",
       "        text-align: right;\n",
       "    }\n",
       "</style>\n",
       "<table border=\"1\" class=\"dataframe\">\n",
       "  <thead>\n",
       "    <tr style=\"text-align: right;\">\n",
       "      <th></th>\n",
       "      <th>Numero_Cliente</th>\n",
       "      <th>Codigo_Sucursal</th>\n",
       "      <th>Atraso</th>\n",
       "      <th>Cartera</th>\n",
       "      <th>Sit.</th>\n",
       "      <th>Deuda_Pesificada</th>\n",
       "    </tr>\n",
       "  </thead>\n",
       "  <tbody>\n",
       "    <tr>\n",
       "      <th>count</th>\n",
       "      <td>128.000000</td>\n",
       "      <td>128.000000</td>\n",
       "      <td>128.000000</td>\n",
       "      <td>128.000000</td>\n",
       "      <td>128.000000</td>\n",
       "      <td>1.280000e+02</td>\n",
       "    </tr>\n",
       "    <tr>\n",
       "      <th>mean</th>\n",
       "      <td>10064.500000</td>\n",
       "      <td>4277.796875</td>\n",
       "      <td>60.640625</td>\n",
       "      <td>2.023438</td>\n",
       "      <td>1.898438</td>\n",
       "      <td>2.741734e+05</td>\n",
       "    </tr>\n",
       "    <tr>\n",
       "      <th>std</th>\n",
       "      <td>37.094474</td>\n",
       "      <td>3534.674346</td>\n",
       "      <td>17.447214</td>\n",
       "      <td>0.151883</td>\n",
       "      <td>0.303259</td>\n",
       "      <td>1.772446e+05</td>\n",
       "    </tr>\n",
       "    <tr>\n",
       "      <th>min</th>\n",
       "      <td>10001.000000</td>\n",
       "      <td>1046.000000</td>\n",
       "      <td>30.000000</td>\n",
       "      <td>2.000000</td>\n",
       "      <td>1.000000</td>\n",
       "      <td>1.500998e+05</td>\n",
       "    </tr>\n",
       "    <tr>\n",
       "      <th>25%</th>\n",
       "      <td>10032.750000</td>\n",
       "      <td>1570.000000</td>\n",
       "      <td>52.000000</td>\n",
       "      <td>2.000000</td>\n",
       "      <td>2.000000</td>\n",
       "      <td>1.663924e+05</td>\n",
       "    </tr>\n",
       "    <tr>\n",
       "      <th>50%</th>\n",
       "      <td>10064.500000</td>\n",
       "      <td>2107.500000</td>\n",
       "      <td>52.000000</td>\n",
       "      <td>2.000000</td>\n",
       "      <td>2.000000</td>\n",
       "      <td>1.981500e+05</td>\n",
       "    </tr>\n",
       "    <tr>\n",
       "      <th>75%</th>\n",
       "      <td>10096.250000</td>\n",
       "      <td>9201.250000</td>\n",
       "      <td>80.000000</td>\n",
       "      <td>2.000000</td>\n",
       "      <td>2.000000</td>\n",
       "      <td>2.878747e+05</td>\n",
       "    </tr>\n",
       "    <tr>\n",
       "      <th>max</th>\n",
       "      <td>10128.000000</td>\n",
       "      <td>9261.000000</td>\n",
       "      <td>88.000000</td>\n",
       "      <td>3.000000</td>\n",
       "      <td>2.000000</td>\n",
       "      <td>1.103900e+06</td>\n",
       "    </tr>\n",
       "  </tbody>\n",
       "</table>\n",
       "</div>"
      ],
      "text/plain": [
       "       Numero_Cliente  Codigo_Sucursal      Atraso     Cartera        Sit.  \\\n",
       "count      128.000000       128.000000  128.000000  128.000000  128.000000   \n",
       "mean     10064.500000      4277.796875   60.640625    2.023438    1.898438   \n",
       "std         37.094474      3534.674346   17.447214    0.151883    0.303259   \n",
       "min      10001.000000      1046.000000   30.000000    2.000000    1.000000   \n",
       "25%      10032.750000      1570.000000   52.000000    2.000000    2.000000   \n",
       "50%      10064.500000      2107.500000   52.000000    2.000000    2.000000   \n",
       "75%      10096.250000      9201.250000   80.000000    2.000000    2.000000   \n",
       "max      10128.000000      9261.000000   88.000000    3.000000    2.000000   \n",
       "\n",
       "       Deuda_Pesificada  \n",
       "count      1.280000e+02  \n",
       "mean       2.741734e+05  \n",
       "std        1.772446e+05  \n",
       "min        1.500998e+05  \n",
       "25%        1.663924e+05  \n",
       "50%        1.981500e+05  \n",
       "75%        2.878747e+05  \n",
       "max        1.103900e+06  "
      ]
     },
     "execution_count": 4,
     "metadata": {},
     "output_type": "execute_result"
    }
   ],
   "source": [
    "df.describe()"
   ]
  },
  {
   "cell_type": "code",
   "execution_count": 5,
   "id": "34a9ac9e",
   "metadata": {},
   "outputs": [
    {
     "data": {
      "text/plain": [
       "array(['ALTA CORDOBA', 'ALTA GRACIA', 'AVDA. HUMBERTO I',\n",
       "       'BARR.LOS NARANJOS', 'BARRIO SAN VICENTE', 'CORDOBA', 'COSQUIN',\n",
       "       'CRUZ DEL EJE', 'DEAN FUNES', 'JESUS MARIA', 'LA FALDA',\n",
       "       'LAGUNA LARGA', 'MINA CLAVERO', 'MONTE CRISTO', 'RIO SEGUNDO',\n",
       "       'UNQUILLO', 'VILLA CARLOS PAZ', 'VILLA DOLORES',\n",
       "       'V. GRAL. BELGRANO', 'BARR.C.DE L/ROSAS', 'BARRIO SAN MARTIN',\n",
       "       'AV.SABATTINI', 'AV.JUAN B.JUSTO', 'BARR.ALTO ALBERDI',\n",
       "       'AV.VELEZ SARSFIELD'], dtype=object)"
      ]
     },
     "execution_count": 5,
     "metadata": {},
     "output_type": "execute_result"
    }
   ],
   "source": [
    "df['Nombre_Sucursal'].unique()"
   ]
  },
  {
   "cell_type": "markdown",
   "id": "9f2a0e9d",
   "metadata": {},
   "source": [
    "Voy a contar la cantidad de registros que tiene la base de datos para tener una referencia.-"
   ]
  },
  {
   "cell_type": "code",
   "execution_count": 6,
   "id": "58c893c8",
   "metadata": {},
   "outputs": [
    {
     "data": {
      "text/plain": [
       "128"
      ]
     },
     "execution_count": 6,
     "metadata": {},
     "output_type": "execute_result"
    }
   ],
   "source": [
    "df['Numero_Cliente'].count()"
   ]
  },
  {
   "cell_type": "markdown",
   "id": "6d72f54f",
   "metadata": {},
   "source": [
    "Creo un nuevo data frame con los datos agrupados de cantidad de clientes en mora por sucursal.-"
   ]
  },
  {
   "cell_type": "code",
   "execution_count": 7,
   "id": "17568313",
   "metadata": {},
   "outputs": [
    {
     "data": {
      "text/plain": [
       "Nombre_Sucursal\n",
       "ALTA CORDOBA           5\n",
       "ALTA GRACIA            5\n",
       "AV.JUAN B.JUSTO       13\n",
       "AV.SABATTINI           5\n",
       "AV.VELEZ SARSFIELD     7\n",
       "AVDA. HUMBERTO I       5\n",
       "BARR.ALTO ALBERDI      4\n",
       "BARR.C.DE L/ROSAS     10\n",
       "BARR.LOS NARANJOS      8\n",
       "BARRIO SAN MARTIN      3\n",
       "BARRIO SAN VICENTE     2\n",
       "CORDOBA               32\n",
       "COSQUIN                3\n",
       "CRUZ DEL EJE           1\n",
       "DEAN FUNES             1\n",
       "JESUS MARIA            2\n",
       "LA FALDA               1\n",
       "LAGUNA LARGA           1\n",
       "MINA CLAVERO           1\n",
       "MONTE CRISTO           2\n",
       "RIO SEGUNDO            6\n",
       "UNQUILLO               3\n",
       "V. GRAL. BELGRANO      1\n",
       "VILLA CARLOS PAZ       4\n",
       "VILLA DOLORES          3\n",
       "Name: Numero_Cliente, dtype: int64"
      ]
     },
     "execution_count": 7,
     "metadata": {},
     "output_type": "execute_result"
    }
   ],
   "source": [
    "cant_suc=df.groupby(by='Nombre_Sucursal').Numero_Cliente.count()\n",
    "cant_suc"
   ]
  },
  {
   "cell_type": "code",
   "execution_count": 8,
   "id": "05212051",
   "metadata": {},
   "outputs": [
    {
     "data": {
      "image/png": "[encoded data removed]",
      "text/plain": [
       "<Figure size 1008x504 with 1 Axes>"
      ]
     },
     "metadata": {
      "needs_background": "light"
     },
     "output_type": "display_data"
    }
   ],
   "source": [
    "#Creo el gráfico y seteo el tamaño:\n",
    "plt.figure(figsize=(14,7))\n",
    "\n",
    "#Elijo el tipo de gráfico con los datos, el color y la opacidad, entre otros.\n",
    "plt.bar(cant_suc.index,cant_suc, color='palegreen')\n",
    "\n",
    "\n",
    "#Elijo los títulos de los ejes con sus estilos:\n",
    "plt.ylabel('Cantidad de Clientes en Mora', size=14)\n",
    "plt.xlabel('Sucursal', size=14)\n",
    "plt.title('Cantidad de Clientes en mora por Sucursal', size=18, pad=25)\n",
    "\n",
    "#Ajustes adicionales:\n",
    "plt.grid(False)\n",
    "plt.xticks(rotation=90)\n",
    "def add_value_label(x_list,y_list):\n",
    "    for i in range(0, len(x_list)):\n",
    "        plt.text(i,y_list[i]/2,y_list[i], ha=\"center\")\n",
    "        \n",
    "add_value_label(cant_suc.index,cant_suc)       \n",
    "plt.annotate(\"Clientes en Mora en Sucursales\", (20, 30))\n",
    "\n",
    "\n",
    "#Mostar el gráfico:\n",
    "plt.show();"
   ]
  },
  {
   "cell_type": "markdown",
   "id": "ca4c4f9e",
   "metadata": {},
   "source": [
    "Creo un df con los promedios de los valores de la deuda en $ y otro con los dias de atraso.-"
   ]
  },
  {
   "cell_type": "code",
   "execution_count": 9,
   "id": "e2e43746",
   "metadata": {},
   "outputs": [
    {
     "data": {
      "text/plain": [
       "Nombre_Sucursal\n",
       "ALTA CORDOBA          234013.54\n",
       "ALTA GRACIA           284120.85\n",
       "AV.JUAN B.JUSTO       197640.08\n",
       "AV.SABATTINI          234219.65\n",
       "AV.VELEZ SARSFIELD    241479.89\n",
       "AVDA. HUMBERTO I      252565.30\n",
       "BARR.ALTO ALBERDI     240577.53\n",
       "BARR.C.DE L/ROSAS     261168.30\n",
       "BARR.LOS NARANJOS     292279.31\n",
       "BARRIO SAN MARTIN     304115.03\n",
       "BARRIO SAN VICENTE    396857.15\n",
       "CORDOBA               309204.89\n",
       "COSQUIN               182755.67\n",
       "CRUZ DEL EJE          152000.00\n",
       "DEAN FUNES            277811.00\n",
       "JESUS MARIA           754381.29\n",
       "LA FALDA              165482.00\n",
       "LAGUNA LARGA          504075.50\n",
       "MINA CLAVERO          155100.00\n",
       "MONTE CRISTO          256003.09\n",
       "RIO SEGUNDO           230342.77\n",
       "UNQUILLO              163711.97\n",
       "V. GRAL. BELGRANO     154022.40\n",
       "VILLA CARLOS PAZ      294989.80\n",
       "VILLA DOLORES         422133.50\n",
       "Name: Deuda_Pesificada, dtype: float64"
      ]
     },
     "execution_count": 9,
     "metadata": {},
     "output_type": "execute_result"
    }
   ],
   "source": [
    "prom_suc=round(df.groupby(by='Nombre_Sucursal').Deuda_Pesificada.mean(),2)\n",
    "prom_suc"
   ]
  },
  {
   "cell_type": "code",
   "execution_count": 10,
   "id": "f804ee4f",
   "metadata": {},
   "outputs": [
    {
     "data": {
      "text/plain": [
       "Nombre_Sucursal\n",
       "ALTA CORDOBA          40.40\n",
       "ALTA GRACIA           49.60\n",
       "AV.JUAN B.JUSTO       67.46\n",
       "AV.SABATTINI          63.20\n",
       "AV.VELEZ SARSFIELD    62.14\n",
       "AVDA. HUMBERTO I      54.80\n",
       "BARR.ALTO ALBERDI     50.00\n",
       "BARR.C.DE L/ROSAS     65.40\n",
       "BARR.LOS NARANJOS     58.12\n",
       "BARRIO SAN MARTIN     75.33\n",
       "BARRIO SAN VICENTE    52.00\n",
       "CORDOBA               59.81\n",
       "COSQUIN               63.67\n",
       "CRUZ DEL EJE          80.00\n",
       "DEAN FUNES            80.00\n",
       "JESUS MARIA           58.50\n",
       "LA FALDA              52.00\n",
       "LAGUNA LARGA          87.00\n",
       "MINA CLAVERO          31.00\n",
       "MONTE CRISTO          58.50\n",
       "RIO SEGUNDO           55.50\n",
       "UNQUILLO              70.67\n",
       "V. GRAL. BELGRANO     80.00\n",
       "VILLA CARLOS PAZ      58.50\n",
       "VILLA DOLORES         77.67\n",
       "Name: Atraso, dtype: float64"
      ]
     },
     "execution_count": 10,
     "metadata": {},
     "output_type": "execute_result"
    }
   ],
   "source": [
    "atraso_suc=round(df.groupby(by='Nombre_Sucursal').Atraso.mean(),2)\n",
    "atraso_suc"
   ]
  },
  {
   "cell_type": "code",
   "execution_count": 53,
   "id": "3ae10d91",
   "metadata": {},
   "outputs": [
    {
     "data": {
      "image/png": "[encoded data removed]",
      "text/plain": [
       "<Figure size 1008x504 with 2 Axes>"
      ]
     },
     "metadata": {
      "needs_background": "light"
     },
     "output_type": "display_data"
    }
   ],
   "source": [
    "fig,(ax1,ax2)=plt.subplots(1,2,figsize=(14,7))\n",
    "ax1.bar(prom_suc.index, prom_suc, color='coral')\n",
    "ax1.set_xlabel('Sucursal', size=14, color='green')\n",
    "ax1.set_ylabel('Prom. Deuda Pesificada', size=14)\n",
    "ax1.set_title('Promedio Deuda Pesificada por Sucursal', size=18, color='red')\n",
    "ax1.tick_params(axis='x', color='r', rotation=90)\n",
    "def add_value_label_1(x_list,y_list):\n",
    "    for i in range(0, len(x_list)):\n",
    "        plt.text(i,y_list[i]/2,y_list[i], ha=\"center\", rotation=90)\n",
    "\n",
    "\n",
    "ax2.bar(atraso_suc.index, atraso_suc)\n",
    "plt.xlabel('Sucursal', size=14, color='green')\n",
    "plt.xticks(rotation=90)\n",
    "add_value_label_1(atraso_suc.index,atraso_suc)\n",
    "plt.show()\n",
    "\n",
    "        "
   ]
  },
  {
   "cell_type": "code",
   "execution_count": null,
   "id": "e16366e5",
   "metadata": {},
   "outputs": [],
   "source": [
    "        \n",
    "fig,axs=plt.subplots(1,2,figsize=(14,7))\n",
    "axs[0].bar(prom_suc.index,prom_suc, color='palegreen')\n",
    "plt.ylabel('Deuda Pesificada', size=5)\n",
    "plt.xlabel('Sucursal', size=5)\n",
    "plt.title('Deuda Promedio Pesificada por Sucursal', size=6, pad=5)\n",
    "plt.grid(False)\n",
    "plt.xticks(rotation=90);\n",
    "        \n",
    "ax2=plt.subplot(1,2,2)\n",
    "ax2.bar(atraso_suc.index,atraso_suc, color='coral')\n",
    "plt.ylabel('Cantidad de Clientes en Mora', size=5)\n",
    "plt.xlabel('Sucursal', size=5)\n",
    "plt.title('Cantidad de Clientes en mora por Sucursal', size=5, pad=5)\n",
    "plt.grid(False)\n",
    "plt.xticks(rotation=90);"
   ]
  },
  {
   "cell_type": "code",
   "execution_count": null,
   "id": "a064169d",
   "metadata": {},
   "outputs": [],
   "source": []
  },
  {
   "cell_type": "code",
   "execution_count": null,
   "id": "fab70bf7",
   "metadata": {},
   "outputs": [],
   "source": []
  }
 ],
 "metadata": {
  "kernelspec": {
   "display_name": "Python 3 (ipykernel)",
   "language": "python",
   "name": "python3"
  },
  "language_info": {
   "codemirror_mode": {
    "name": "ipython",
    "version": 3
   },
   "file_extension": ".py",
   "mimetype": "text/x-python",
   "name": "python",
   "nbconvert_exporter": "python",
   "pygments_lexer": "ipython3",
   "version": "3.9.12"
  }
 },
 "nbformat": 4,
 "nbformat_minor": 5
}
